{
 "cells": [
  {
   "cell_type": "code",
   "execution_count": 3,
   "id": "d0ec1ebd-deef-48b4-be34-89d463cf56b6",
   "metadata": {},
   "outputs": [
    {
     "name": "stdout",
     "output_type": "stream",
     "text": [
      "Hello world\n"
     ]
    }
   ],
   "source": [
    "# 001\n",
    "print('Hello world')"
   ]
  },
  {
   "cell_type": "code",
   "execution_count": 4,
   "id": "4a6c2af1-d3c9-430b-829f-045ea02d90ee",
   "metadata": {},
   "outputs": [
    {
     "name": "stdout",
     "output_type": "stream",
     "text": [
      "Mary's cosmetics\n"
     ]
    }
   ],
   "source": [
    "# 002\n",
    "print(\"Mary's cosmetics\")"
   ]
  },
  {
   "cell_type": "code",
   "execution_count": 5,
   "id": "540b775c-59b7-47de-a143-f0ecd5585135",
   "metadata": {},
   "outputs": [
    {
     "name": "stdout",
     "output_type": "stream",
     "text": [
      "신씨가 소리질렀다. \"도둑이야\"\n"
     ]
    }
   ],
   "source": [
    "# 003\n",
    "print('신씨가 소리질렀다. \"도둑이야\"')"
   ]
  },
  {
   "cell_type": "code",
   "execution_count": 7,
   "id": "77c754e7-0ebc-4db8-93a7-566373a3ac71",
   "metadata": {},
   "outputs": [
    {
     "name": "stdout",
     "output_type": "stream",
     "text": [
      "C:\\Windows\n"
     ]
    }
   ],
   "source": [
    "# 004\n",
    "print('C:\\Windows')"
   ]
  },
  {
   "cell_type": "code",
   "execution_count": 12,
   "id": "2f89ea82-a757-4fc5-a97d-a8d82ade8d6c",
   "metadata": {},
   "outputs": [
    {
     "name": "stdout",
     "output_type": "stream",
     "text": [
      "안녕하세요.\n",
      "만나서\t\t반갑습니다.\n"
     ]
    }
   ],
   "source": [
    "# 005\n",
    "print(\"안녕하세요.\\n만나서\\t\\t반갑습니다.\")\n",
    "# \\n : 줄나누기(엔터), \\t : 띄어쓰기(탭), \\t\\t : 완전띄어쓰기(탭길게)\n",
    "# `\\t`는 탭을 의미하고 `\\n'`은 줄바꿈을 의미합니다."
   ]
  },
  {
   "cell_type": "code",
   "execution_count": 13,
   "id": "bc999aac-0fb6-40b8-ac5a-4189d132bd9e",
   "metadata": {},
   "outputs": [
    {
     "name": "stdout",
     "output_type": "stream",
     "text": [
      "오늘은 일요일\n"
     ]
    }
   ],
   "source": [
    "# 006\n",
    "print (\"오늘은\", \"일요일\")  #예상 출력: 오늘은 일요일"
   ]
  },
  {
   "cell_type": "code",
   "execution_count": 15,
   "id": "5efdcbd8-f699-4196-a54e-d212bb1d7372",
   "metadata": {},
   "outputs": [
    {
     "name": "stdout",
     "output_type": "stream",
     "text": [
      "naver;kakao;sk;samsung\n",
      "naver;kakao;sk;samsung\n"
     ]
    }
   ],
   "source": [
    "# 007 naver;kakao;sk;samsung\n",
    "print('naver;kakao;sk;samsung')\n",
    "print('naver', 'kakao', 'sk', 'samsung', sep=';')"
   ]
  },
  {
   "cell_type": "code",
   "execution_count": 16,
   "id": "a1815e71-e6e0-4cf0-a028-5113bd94d8d8",
   "metadata": {},
   "outputs": [
    {
     "name": "stdout",
     "output_type": "stream",
     "text": [
      "naver/kakao/sk/samsung\n"
     ]
    }
   ],
   "source": [
    "# 008\n",
    "print('naver', 'kakao', 'sk', 'samsung', sep='/')"
   ]
  },
  {
   "cell_type": "code",
   "execution_count": 19,
   "id": "d24059aa-b769-474c-a526-d4ac6727f4b3",
   "metadata": {},
   "outputs": [
    {
     "name": "stdout",
     "output_type": "stream",
     "text": [
      "firstsecond\n"
     ]
    }
   ],
   "source": [
    "# 009\n",
    "print(\"first\", end='');print(\"second\")"
   ]
  },
  {
   "cell_type": "code",
   "execution_count": 25,
   "id": "178ae06c-5d2b-460e-8da4-56cfabb26a35",
   "metadata": {},
   "outputs": [
    {
     "name": "stdout",
     "output_type": "stream",
     "text": [
      "1.6666666666666667\n"
     ]
    }
   ],
   "source": [
    "# 010\n",
    "5/3\n",
    "print(5/3)"
   ]
  },
  {
   "cell_type": "code",
   "execution_count": 30,
   "id": "f13c35a8-8e04-4d83-ac39-e6fa86dd642a",
   "metadata": {},
   "outputs": [
    {
     "name": "stdout",
     "output_type": "stream",
     "text": [
      "500000\n"
     ]
    }
   ],
   "source": [
    "# 011\n",
    "samsungelec = 50000\n",
    "totalcost = samsungelec * 10\n",
    "print(totalcost)"
   ]
  },
  {
   "cell_type": "code",
   "execution_count": 4,
   "id": "17e75607-8eb8-41f2-b906-6d8402774903",
   "metadata": {},
   "outputs": [
    {
     "name": "stdout",
     "output_type": "stream",
     "text": [
      "298000000000000 <class 'int'>\n",
      "50000 <class 'int'>\n",
      "15.79 <class 'float'>\n"
     ]
    }
   ],
   "source": [
    "# 012\n",
    "capital = 298000000000000\n",
    "nowprice = 50000\n",
    "per = 15.79\n",
    "# print(capital, nowprice, per)\n",
    "print(capital, type(capital))\n",
    "print(nowprice, type(nowprice))\n",
    "print(per, type(per))"
   ]
  },
  {
   "cell_type": "code",
   "execution_count": 6,
   "id": "6bc193a8-830f-44f7-af43-689e6638df7f",
   "metadata": {},
   "outputs": [
    {
     "name": "stdout",
     "output_type": "stream",
     "text": [
      "hello! python\n"
     ]
    }
   ],
   "source": [
    "# 013\n",
    "str1 = 'hello!'\n",
    "str2 = ' python'\n",
    "print(str1 + str2)"
   ]
  },
  {
   "cell_type": "code",
   "execution_count": 8,
   "id": "9bc36bae-a56f-4b55-a29a-7e2df68657d2",
   "metadata": {},
   "outputs": [
    {
     "name": "stdout",
     "output_type": "stream",
     "text": [
      "hello! python\n"
     ]
    }
   ],
   "source": [
    "# 013 a\n",
    "a = 'hello'\n",
    "b = 'python'\n",
    "print(a + '!', b)"
   ]
  },
  {
   "cell_type": "code",
   "execution_count": 9,
   "id": "b7a91c7a-97b0-497e-9f6b-387afdd641c3",
   "metadata": {},
   "outputs": [
    {
     "data": {
      "text/plain": [
       "8"
      ]
     },
     "execution_count": 9,
     "metadata": {},
     "output_type": "execute_result"
    }
   ],
   "source": [
    "# 014 \n",
    "2 + 2 * 3\n",
    "# 8"
   ]
  },
  {
   "cell_type": "code",
   "execution_count": 12,
   "id": "eb931406-7712-4390-81a6-112db23da5e5",
   "metadata": {},
   "outputs": [
    {
     "name": "stdout",
     "output_type": "stream",
     "text": [
      "<class 'int'>\n"
     ]
    }
   ],
   "source": [
    "# 015\n",
    "a = 132\n",
    "print (type(a))"
   ]
  },
  {
   "cell_type": "code",
   "execution_count": 14,
   "id": "a59ebdac-d063-4b8e-bd01-6e4ad4982190",
   "metadata": {},
   "outputs": [
    {
     "name": "stdout",
     "output_type": "stream",
     "text": [
      "720 <class 'int'>\n"
     ]
    }
   ],
   "source": [
    "# 016\n",
    "num_str = \"720\"\n",
    "print(int(num_str), type(int(num_str)))"
   ]
  },
  {
   "cell_type": "code",
   "execution_count": 17,
   "id": "9f78eb18-2aa3-4215-afb6-d634eddd9ea5",
   "metadata": {},
   "outputs": [
    {
     "name": "stdout",
     "output_type": "stream",
     "text": [
      "721 <class 'int'>\n"
     ]
    }
   ],
   "source": [
    "# 016 a  : 720에서 형변환만 하고 숫자는 안바꾸는거 아닌가?\n",
    "num_int = int(num_str)\n",
    "print(num_int+1, type(num_int))"
   ]
  },
  {
   "cell_type": "code",
   "execution_count": 19,
   "id": "7eb300b2-4e08-40a1-aa9d-3c3a947fad7d",
   "metadata": {},
   "outputs": [
    {
     "name": "stdout",
     "output_type": "stream",
     "text": [
      "100 <class 'str'>\n"
     ]
    }
   ],
   "source": [
    "# 017 \n",
    "num = 100\n",
    "a = str(num)\n",
    "print(a, type(a))"
   ]
  },
  {
   "cell_type": "code",
   "execution_count": 20,
   "id": "8e8b18b2-b5a5-4807-8050-275cb49e4149",
   "metadata": {},
   "outputs": [
    {
     "name": "stdout",
     "output_type": "stream",
     "text": [
      "100 <class 'str'>\n"
     ]
    }
   ],
   "source": [
    "# 017 a\n",
    "result = str(num)\n",
    "print(result, type(result))"
   ]
  },
  {
   "cell_type": "code",
   "execution_count": 22,
   "id": "33c7c7f0-b769-4988-93f3-f4f1c5db9625",
   "metadata": {},
   "outputs": [
    {
     "name": "stdout",
     "output_type": "stream",
     "text": [
      "15.79 <class 'float'>\n"
     ]
    }
   ],
   "source": [
    "# 018\n",
    "data = \"15.79\"\n",
    "a = float(data)\n",
    "print(a, type(a))"
   ]
  },
  {
   "cell_type": "code",
   "execution_count": 29,
   "id": "14855ba8-f4ac-4b5c-adc7-a118e7bc941c",
   "metadata": {},
   "outputs": [
    {
     "name": "stdout",
     "output_type": "stream",
     "text": [
      "2020 2019 2018\n"
     ]
    }
   ],
   "source": [
    "# 019\n",
    "year = \"2020\"\n",
    "lastyear = int(year)\n",
    "print(lastyear, lastyear-1, lastyear-2)"
   ]
  },
  {
   "cell_type": "code",
   "execution_count": 30,
   "id": "9340cf32-1492-47b6-85b9-d92f30e3b10b",
   "metadata": {},
   "outputs": [
    {
     "name": "stdout",
     "output_type": "stream",
     "text": [
      "2017\n",
      "2018\n",
      "2019\n"
     ]
    }
   ],
   "source": [
    "# 019 a\n",
    "year = \"2020\"\n",
    "print(int(year)-3)\n",
    "print(int(year)-2)\n",
    "print(int(year)-1)"
   ]
  },
  {
   "cell_type": "code",
   "execution_count": 34,
   "id": "a00c1773-ecf1-4fc7-8d31-fb73487c0ed9",
   "metadata": {},
   "outputs": [
    {
     "name": "stdout",
     "output_type": "stream",
     "text": [
      "2022 2021 2020\n"
     ]
    }
   ],
   "source": [
    "# 019 b\n",
    "year = \"2023\"\n",
    "recent = int(year)\n",
    "print(recent-1, recent-2, recent-3)"
   ]
  },
  {
   "cell_type": "code",
   "execution_count": 40,
   "id": "394649b0-9136-425f-9d2d-d2eac5a89823",
   "metadata": {},
   "outputs": [
    {
     "name": "stdout",
     "output_type": "stream",
     "text": [
      "1749024\n"
     ]
    }
   ],
   "source": [
    "# 020\n",
    "mprice = 48584\n",
    "period = 36\n",
    "equip = mprice * period\n",
    "print(equip)\n",
    "# 똑같은 개월수라서 36은 변수안줘도 되겠따"
   ]
  },
  {
   "cell_type": "code",
   "execution_count": 42,
   "id": "b5efbeea-2fec-4ccd-b6b4-ba0277c22a33",
   "metadata": {},
   "outputs": [
    {
     "name": "stdout",
     "output_type": "stream",
     "text": [
      "1749024\n"
     ]
    }
   ],
   "source": [
    "# 020 a\n",
    "month = 48584\n",
    "equip = month * 36\n",
    "print(equip)"
   ]
  },
  {
   "cell_type": "code",
   "execution_count": 8,
   "id": "21299d85-041d-415f-a03c-31dab5408fd2",
   "metadata": {},
   "outputs": [
    {
     "name": "stdout",
     "output_type": "stream",
     "text": [
      "p t\n"
     ]
    }
   ],
   "source": [
    "# 021\n",
    "letters = 'python'\n",
    "list(letters)\n",
    "print(letters[0],letters[2])"
   ]
  },
  {
   "cell_type": "code",
   "execution_count": 9,
   "id": "68e4a4aa-58f6-4c3c-96fd-b1d0eefb48f6",
   "metadata": {},
   "outputs": [
    {
     "data": {
      "text/plain": [
       "8"
      ]
     },
     "execution_count": 9,
     "metadata": {},
     "output_type": "execute_result"
    }
   ],
   "source": [
    "# 022\n",
    "license_plate = \"24가 2210\"\n",
    "len(license_plate)\n",
    "print(license_plate"
   ]
  },
  {
   "cell_type": "code",
   "execution_count": null,
   "id": "954dc96a-69e6-44d3-9b5a-4bc28fafe675",
   "metadata": {},
   "outputs": [],
   "source": []
  },
  {
   "cell_type": "code",
   "execution_count": null,
   "id": "80161227-a50e-476f-b793-f8020a7cd0bf",
   "metadata": {},
   "outputs": [],
   "source": []
  }
 ],
 "metadata": {
  "kernelspec": {
   "display_name": "Python 3 (ipykernel)",
   "language": "python",
   "name": "python3"
  },
  "language_info": {
   "codemirror_mode": {
    "name": "ipython",
    "version": 3
   },
   "file_extension": ".py",
   "mimetype": "text/x-python",
   "name": "python",
   "nbconvert_exporter": "python",
   "pygments_lexer": "ipython3",
   "version": "3.11.6"
  }
 },
 "nbformat": 4,
 "nbformat_minor": 5
}
