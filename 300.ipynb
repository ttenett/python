{
 "cells": [
  {
   "cell_type": "code",
   "execution_count": 3,
   "id": "d0ec1ebd-deef-48b4-be34-89d463cf56b6",
   "metadata": {},
   "outputs": [
    {
     "name": "stdout",
     "output_type": "stream",
     "text": [
      "Hello world\n"
     ]
    }
   ],
   "source": [
    "# 001\n",
    "print('Hello world')"
   ]
  },
  {
   "cell_type": "code",
   "execution_count": 4,
   "id": "4a6c2af1-d3c9-430b-829f-045ea02d90ee",
   "metadata": {},
   "outputs": [
    {
     "name": "stdout",
     "output_type": "stream",
     "text": [
      "Mary's cosmetics\n"
     ]
    }
   ],
   "source": [
    "# 002\n",
    "print(\"Mary's cosmetics\")"
   ]
  },
  {
   "cell_type": "code",
   "execution_count": 5,
   "id": "540b775c-59b7-47de-a143-f0ecd5585135",
   "metadata": {},
   "outputs": [
    {
     "name": "stdout",
     "output_type": "stream",
     "text": [
      "신씨가 소리질렀다. \"도둑이야\"\n"
     ]
    }
   ],
   "source": [
    "# 003\n",
    "print('신씨가 소리질렀다. \"도둑이야\"')"
   ]
  },
  {
   "cell_type": "code",
   "execution_count": 7,
   "id": "77c754e7-0ebc-4db8-93a7-566373a3ac71",
   "metadata": {},
   "outputs": [
    {
     "name": "stdout",
     "output_type": "stream",
     "text": [
      "C:\\Windows\n"
     ]
    }
   ],
   "source": [
    "# 004\n",
    "print('C:\\Windows')"
   ]
  },
  {
   "cell_type": "code",
   "execution_count": 12,
   "id": "2f89ea82-a757-4fc5-a97d-a8d82ade8d6c",
   "metadata": {},
   "outputs": [
    {
     "name": "stdout",
     "output_type": "stream",
     "text": [
      "안녕하세요.\n",
      "만나서\t\t반갑습니다.\n"
     ]
    }
   ],
   "source": [
    "# 005\n",
    "print(\"안녕하세요.\\n만나서\\t\\t반갑습니다.\")\n",
    "# \\n : 줄나누기(엔터), \\t : 띄어쓰기(탭), \\t\\t : 완전띄어쓰기(탭길게)\n",
    "# `\\t`는 탭을 의미하고 `\\n'`은 줄바꿈을 의미합니다."
   ]
  },
  {
   "cell_type": "code",
   "execution_count": 13,
   "id": "bc999aac-0fb6-40b8-ac5a-4189d132bd9e",
   "metadata": {},
   "outputs": [
    {
     "name": "stdout",
     "output_type": "stream",
     "text": [
      "오늘은 일요일\n"
     ]
    }
   ],
   "source": [
    "# 006\n",
    "print (\"오늘은\", \"일요일\")  #예상 출력: 오늘은 일요일"
   ]
  },
  {
   "cell_type": "code",
   "execution_count": 15,
   "id": "5efdcbd8-f699-4196-a54e-d212bb1d7372",
   "metadata": {},
   "outputs": [
    {
     "name": "stdout",
     "output_type": "stream",
     "text": [
      "naver;kakao;sk;samsung\n",
      "naver;kakao;sk;samsung\n"
     ]
    }
   ],
   "source": [
    "# 007 naver;kakao;sk;samsung\n",
    "print('naver;kakao;sk;samsung')\n",
    "print('naver', 'kakao', 'sk', 'samsung', sep=';')"
   ]
  },
  {
   "cell_type": "code",
   "execution_count": 16,
   "id": "a1815e71-e6e0-4cf0-a028-5113bd94d8d8",
   "metadata": {},
   "outputs": [
    {
     "name": "stdout",
     "output_type": "stream",
     "text": [
      "naver/kakao/sk/samsung\n"
     ]
    }
   ],
   "source": [
    "# 008\n",
    "print('naver', 'kakao', 'sk', 'samsung', sep='/')"
   ]
  },
  {
   "cell_type": "code",
   "execution_count": 19,
   "id": "d24059aa-b769-474c-a526-d4ac6727f4b3",
   "metadata": {},
   "outputs": [
    {
     "name": "stdout",
     "output_type": "stream",
     "text": [
      "firstsecond\n"
     ]
    }
   ],
   "source": [
    "# 009\n",
    "print(\"first\", end='');print(\"second\")"
   ]
  },
  {
   "cell_type": "code",
   "execution_count": 25,
   "id": "178ae06c-5d2b-460e-8da4-56cfabb26a35",
   "metadata": {},
   "outputs": [
    {
     "name": "stdout",
     "output_type": "stream",
     "text": [
      "1.6666666666666667\n"
     ]
    }
   ],
   "source": [
    "# 010\n",
    "5/3\n",
    "print(5/3)"
   ]
  },
  {
   "cell_type": "code",
   "execution_count": 30,
   "id": "f13c35a8-8e04-4d83-ac39-e6fa86dd642a",
   "metadata": {},
   "outputs": [
    {
     "name": "stdout",
     "output_type": "stream",
     "text": [
      "500000\n"
     ]
    }
   ],
   "source": [
    "# 011\n",
    "samsungelec = 50000\n",
    "totalcost = samsungelec * 10\n",
    "print(totalcost)"
   ]
  },
  {
   "cell_type": "code",
   "execution_count": 4,
   "id": "17e75607-8eb8-41f2-b906-6d8402774903",
   "metadata": {},
   "outputs": [
    {
     "name": "stdout",
     "output_type": "stream",
     "text": [
      "298000000000000 <class 'int'>\n",
      "50000 <class 'int'>\n",
      "15.79 <class 'float'>\n"
     ]
    }
   ],
   "source": [
    "# 012\n",
    "capital = 298000000000000\n",
    "nowprice = 50000\n",
    "per = 15.79\n",
    "# print(capital, nowprice, per)\n",
    "print(capital, type(capital))\n",
    "print(nowprice, type(nowprice))\n",
    "print(per, type(per))"
   ]
  },
  {
   "cell_type": "code",
   "execution_count": 6,
   "id": "6bc193a8-830f-44f7-af43-689e6638df7f",
   "metadata": {},
   "outputs": [
    {
     "name": "stdout",
     "output_type": "stream",
     "text": [
      "hello! python\n"
     ]
    }
   ],
   "source": [
    "# 013\n",
    "str1 = 'hello!'\n",
    "str2 = ' python'\n",
    "print(str1 + str2)"
   ]
  },
  {
   "cell_type": "code",
   "execution_count": 8,
   "id": "9bc36bae-a56f-4b55-a29a-7e2df68657d2",
   "metadata": {},
   "outputs": [
    {
     "name": "stdout",
     "output_type": "stream",
     "text": [
      "hello! python\n"
     ]
    }
   ],
   "source": [
    "# 013 a\n",
    "a = 'hello'\n",
    "b = 'python'\n",
    "print(a + '!', b)"
   ]
  },
  {
   "cell_type": "code",
   "execution_count": 9,
   "id": "b7a91c7a-97b0-497e-9f6b-387afdd641c3",
   "metadata": {},
   "outputs": [
    {
     "data": {
      "text/plain": [
       "8"
      ]
     },
     "execution_count": 9,
     "metadata": {},
     "output_type": "execute_result"
    }
   ],
   "source": [
    "# 014 \n",
    "2 + 2 * 3\n",
    "# 8"
   ]
  },
  {
   "cell_type": "code",
   "execution_count": 12,
   "id": "eb931406-7712-4390-81a6-112db23da5e5",
   "metadata": {},
   "outputs": [
    {
     "name": "stdout",
     "output_type": "stream",
     "text": [
      "<class 'int'>\n"
     ]
    }
   ],
   "source": [
    "# 015\n",
    "a = 132\n",
    "print (type(a))"
   ]
  },
  {
   "cell_type": "code",
   "execution_count": 14,
   "id": "a59ebdac-d063-4b8e-bd01-6e4ad4982190",
   "metadata": {},
   "outputs": [
    {
     "name": "stdout",
     "output_type": "stream",
     "text": [
      "720 <class 'int'>\n"
     ]
    }
   ],
   "source": [
    "# 016\n",
    "num_str = \"720\"\n",
    "print(int(num_str), type(int(num_str)))"
   ]
  },
  {
   "cell_type": "code",
   "execution_count": 17,
   "id": "9f78eb18-2aa3-4215-afb6-d634eddd9ea5",
   "metadata": {},
   "outputs": [
    {
     "name": "stdout",
     "output_type": "stream",
     "text": [
      "721 <class 'int'>\n"
     ]
    }
   ],
   "source": [
    "# 016 a  : 720에서 형변환만 하고 숫자는 안바꾸는거 아닌가?\n",
    "num_int = int(num_str)\n",
    "print(num_int+1, type(num_int))"
   ]
  },
  {
   "cell_type": "code",
   "execution_count": 19,
   "id": "7eb300b2-4e08-40a1-aa9d-3c3a947fad7d",
   "metadata": {},
   "outputs": [
    {
     "name": "stdout",
     "output_type": "stream",
     "text": [
      "100 <class 'str'>\n"
     ]
    }
   ],
   "source": [
    "# 017 \n",
    "num = 100\n",
    "a = str(num)\n",
    "print(a, type(a))"
   ]
  },
  {
   "cell_type": "code",
   "execution_count": 20,
   "id": "8e8b18b2-b5a5-4807-8050-275cb49e4149",
   "metadata": {},
   "outputs": [
    {
     "name": "stdout",
     "output_type": "stream",
     "text": [
      "100 <class 'str'>\n"
     ]
    }
   ],
   "source": [
    "# 017 a\n",
    "result = str(num)\n",
    "print(result, type(result))"
   ]
  },
  {
   "cell_type": "code",
   "execution_count": 22,
   "id": "33c7c7f0-b769-4988-93f3-f4f1c5db9625",
   "metadata": {},
   "outputs": [
    {
     "name": "stdout",
     "output_type": "stream",
     "text": [
      "15.79 <class 'float'>\n"
     ]
    }
   ],
   "source": [
    "# 018\n",
    "data = \"15.79\"\n",
    "a = float(data)\n",
    "print(a, type(a))"
   ]
  },
  {
   "cell_type": "code",
   "execution_count": 29,
   "id": "14855ba8-f4ac-4b5c-adc7-a118e7bc941c",
   "metadata": {},
   "outputs": [
    {
     "name": "stdout",
     "output_type": "stream",
     "text": [
      "2020 2019 2018\n"
     ]
    }
   ],
   "source": [
    "# 019\n",
    "year = \"2020\"\n",
    "lastyear = int(year)\n",
    "print(lastyear, lastyear-1, lastyear-2)"
   ]
  },
  {
   "cell_type": "code",
   "execution_count": 30,
   "id": "9340cf32-1492-47b6-85b9-d92f30e3b10b",
   "metadata": {},
   "outputs": [
    {
     "name": "stdout",
     "output_type": "stream",
     "text": [
      "2017\n",
      "2018\n",
      "2019\n"
     ]
    }
   ],
   "source": [
    "# 019 a\n",
    "year = \"2020\"\n",
    "print(int(year)-3)\n",
    "print(int(year)-2)\n",
    "print(int(year)-1)"
   ]
  },
  {
   "cell_type": "code",
   "execution_count": 34,
   "id": "a00c1773-ecf1-4fc7-8d31-fb73487c0ed9",
   "metadata": {},
   "outputs": [
    {
     "name": "stdout",
     "output_type": "stream",
     "text": [
      "2022 2021 2020\n"
     ]
    }
   ],
   "source": [
    "# 019 b\n",
    "year = \"2023\"\n",
    "recent = int(year)\n",
    "print(recent-1, recent-2, recent-3)"
   ]
  },
  {
   "cell_type": "code",
   "execution_count": 40,
   "id": "394649b0-9136-425f-9d2d-d2eac5a89823",
   "metadata": {},
   "outputs": [
    {
     "name": "stdout",
     "output_type": "stream",
     "text": [
      "1749024\n"
     ]
    }
   ],
   "source": [
    "# 020\n",
    "mprice = 48584\n",
    "period = 36\n",
    "equip = mprice * period\n",
    "print(equip)\n",
    "# 똑같은 개월수라서 36은 변수안줘도 되겠따"
   ]
  },
  {
   "cell_type": "code",
   "execution_count": 42,
   "id": "b5efbeea-2fec-4ccd-b6b4-ba0277c22a33",
   "metadata": {},
   "outputs": [
    {
     "name": "stdout",
     "output_type": "stream",
     "text": [
      "1749024\n"
     ]
    }
   ],
   "source": [
    "# 020 a\n",
    "month = 48584\n",
    "equip = month * 36\n",
    "print(equip)"
   ]
  },
  {
   "cell_type": "code",
   "execution_count": 8,
   "id": "21299d85-041d-415f-a03c-31dab5408fd2",
   "metadata": {},
   "outputs": [
    {
     "name": "stdout",
     "output_type": "stream",
     "text": [
      "p t\n"
     ]
    }
   ],
   "source": [
    "# 021\n",
    "letters = 'python'\n",
    "list(letters)\n",
    "print(letters[0],letters[2])"
   ]
  },
  {
   "cell_type": "code",
   "execution_count": 3,
   "id": "68e4a4aa-58f6-4c3c-96fd-b1d0eefb48f6",
   "metadata": {},
   "outputs": [
    {
     "name": "stdout",
     "output_type": "stream",
     "text": [
      "2210\n"
     ]
    }
   ],
   "source": [
    "# 022\n",
    "license_plate = \"24가 2210\"\n",
    "len(license_plate)\n",
    "print(license_plate[4:8])"
   ]
  },
  {
   "cell_type": "code",
   "execution_count": 5,
   "id": "954dc96a-69e6-44d3-9b5a-4bc28fafe675",
   "metadata": {},
   "outputs": [
    {
     "name": "stdout",
     "output_type": "stream",
     "text": [
      "2210\n"
     ]
    }
   ],
   "source": [
    "# 022 a\n",
    "license_plate = \"24가 2210\"\n",
    "print(license_plate[-4:])"
   ]
  },
  {
   "cell_type": "code",
   "execution_count": 7,
   "id": "d306e1b7-e6e5-450f-a50a-05ecedf0088e",
   "metadata": {},
   "outputs": [
    {
     "name": "stdout",
     "output_type": "stream",
     "text": [
      "홀홀홀\n"
     ]
    }
   ],
   "source": [
    "# 023\n",
    "string = \"홀짝홀짝홀짝\"\n",
    "print(string[::2])"
   ]
  },
  {
   "cell_type": "code",
   "execution_count": 9,
   "id": "41dca9d9-651c-40bf-a572-e6388953ed4b",
   "metadata": {},
   "outputs": [
    {
     "name": "stdout",
     "output_type": "stream",
     "text": [
      "NOHTYP\n"
     ]
    }
   ],
   "source": [
    "# 024\n",
    "string = \"PYTHON\"\n",
    "print(string[::-1])"
   ]
  },
  {
   "cell_type": "code",
   "execution_count": 14,
   "id": "afa67cc5-eb9e-429d-a2d9-828a5c8fa331",
   "metadata": {},
   "outputs": [
    {
     "name": "stdout",
     "output_type": "stream",
     "text": [
      "010 1111 2222\n"
     ]
    }
   ],
   "source": [
    "# 025\n",
    "phone_number = \"010-1111-2222\"\n",
    "new = phone_number.replace('-', ' ')\n",
    "print(new)"
   ]
  },
  {
   "cell_type": "markdown",
   "id": "b2d2a95e-2cd4-4366-81de-98e492c913f2",
   "metadata": {},
   "source": [
    "문자열에서 replace 메서드를 사용하면 문자열 일부를 치환가능. 문자열은 수정할 수 없기때문에 기존 문자열은 그대로 두고 치환된 새로운 문자열이 리턴됨."
   ]
  },
  {
   "cell_type": "code",
   "execution_count": 15,
   "id": "e8688b69-87de-4a89-88e8-4403510000b1",
   "metadata": {},
   "outputs": [
    {
     "name": "stdout",
     "output_type": "stream",
     "text": [
      "01011112222\n"
     ]
    }
   ],
   "source": [
    "# 026\n",
    "phone_number = \"010-1111-2222\"\n",
    "new = phone_number.replace('-', '')\n",
    "print(new)"
   ]
  },
  {
   "cell_type": "code",
   "execution_count": 16,
   "id": "94d4822a-99a7-478e-ad12-3a474ccb3ba5",
   "metadata": {},
   "outputs": [
    {
     "name": "stdout",
     "output_type": "stream",
     "text": [
      "kr\n"
     ]
    }
   ],
   "source": [
    "# 027\n",
    "url = \"http://sharebook.kr\"\n",
    "print(url[-2:])"
   ]
  },
  {
   "cell_type": "code",
   "execution_count": 17,
   "id": "80161227-a50e-476f-b793-f8020a7cd0bf",
   "metadata": {},
   "outputs": [
    {
     "name": "stdout",
     "output_type": "stream",
     "text": [
      "kr\n"
     ]
    }
   ],
   "source": [
    "# 027 a\n",
    "# 문자열로 표현된 url에서 `.`을 기준으로 분리하기. 마지막을 인덱싱하면 도메인만 출력가능.\n",
    "url_split = url.split('.')\n",
    "print(url_split[-1])"
   ]
  },
  {
   "cell_type": "code",
   "execution_count": 18,
   "id": "18682cb1-78d4-47ca-8dcf-2bec945d05e5",
   "metadata": {
    "scrolled": true
   },
   "outputs": [
    {
     "ename": "TypeError",
     "evalue": "'str' object does not support item assignment",
     "output_type": "error",
     "traceback": [
      "\u001b[1;31m---------------------------------------------------------------------------\u001b[0m",
      "\u001b[1;31mTypeError\u001b[0m                                 Traceback (most recent call last)",
      "Cell \u001b[1;32mIn[18], line 3\u001b[0m\n\u001b[0;32m      1\u001b[0m \u001b[38;5;66;03m# 028\u001b[39;00m\n\u001b[0;32m      2\u001b[0m lang \u001b[38;5;241m=\u001b[39m \u001b[38;5;124m'\u001b[39m\u001b[38;5;124mpython\u001b[39m\u001b[38;5;124m'\u001b[39m\n\u001b[1;32m----> 3\u001b[0m \u001b[43mlang\u001b[49m\u001b[43m[\u001b[49m\u001b[38;5;241;43m0\u001b[39;49m\u001b[43m]\u001b[49m \u001b[38;5;241m=\u001b[39m \u001b[38;5;124m'\u001b[39m\u001b[38;5;124mP\u001b[39m\u001b[38;5;124m'\u001b[39m\n\u001b[0;32m      4\u001b[0m \u001b[38;5;28mprint\u001b[39m(lang)\n",
      "\u001b[1;31mTypeError\u001b[0m: 'str' object does not support item assignment"
     ]
    }
   ],
   "source": [
    "# 028\n",
    "lang = 'python'\n",
    "lang[0] = 'P'\n",
    "print(lang)"
   ]
  },
  {
   "cell_type": "markdown",
   "id": "bc3cebea-715f-44dc-9f74-ed002b72e7a2",
   "metadata": {},
   "source": [
    "문자열은 수정할 수 없다."
   ]
  },
  {
   "cell_type": "code",
   "execution_count": 19,
   "id": "1f536649-8527-4957-be0e-705dfe8d7027",
   "metadata": {},
   "outputs": [
    {
     "name": "stdout",
     "output_type": "stream",
     "text": [
      "Abcdfe2A354A32A\n"
     ]
    }
   ],
   "source": [
    "# 029\n",
    "string = 'abcdfe2a354a32a'\n",
    "newstr = string.replace('a', 'A')\n",
    "print(newstr)"
   ]
  },
  {
   "cell_type": "code",
   "execution_count": 20,
   "id": "b796369e-5c0a-4e1b-ab12-11d10ac67dd2",
   "metadata": {},
   "outputs": [
    {
     "name": "stdout",
     "output_type": "stream",
     "text": [
      "Abcdfe2A354A32A\n"
     ]
    }
   ],
   "source": [
    "# 029 a 문자열은 치환할수 없다면서 이건 외 되?\n",
    "string = 'abcdfe2a354a32a'\n",
    "string = string.replace('a', 'A')\n",
    "print(string)"
   ]
  },
  {
   "cell_type": "code",
   "execution_count": 26,
   "id": "3f4d2a1d-f785-45b3-8af9-b1ebc07a0ef4",
   "metadata": {},
   "outputs": [
    {
     "name": "stdout",
     "output_type": "stream",
     "text": [
      "abcd\n"
     ]
    }
   ],
   "source": [
    "# 030 위에는 새로 값을 다시 정의해줘서? 이거는 그 값 자체를 바꾸려해서 치환안되는 특성 그대로 유지?\n",
    "string = 'abcd'\n",
    "string.replace('b', 'B')\n",
    "print(string)  # 예상 aBcd\n",
    "# replace 메서드를 사용하면 원본은 그대로 둔채로 변경된 새로운 문자열 객체를 리턴해줍니다."
   ]
  },
  {
   "cell_type": "code",
   "execution_count": 28,
   "id": "6cc9da0d-68ad-47ce-abd9-ffb8001700f1",
   "metadata": {},
   "outputs": [
    {
     "name": "stdout",
     "output_type": "stream",
     "text": [
      "34\n"
     ]
    }
   ],
   "source": [
    "# 031\n",
    "a = \"3\"\n",
    "b = \"4\"\n",
    "print(a + b)  # 예상 3 4   띄우기조차도 없군아."
   ]
  },
  {
   "cell_type": "code",
   "execution_count": 29,
   "id": "9dddf90f-794d-4887-9dbc-67df1b6006d7",
   "metadata": {},
   "outputs": [
    {
     "name": "stdout",
     "output_type": "stream",
     "text": [
      "HiHiHi\n"
     ]
    }
   ],
   "source": [
    "# 032\n",
    "print(\"Hi\" * 3) # 예상 HiHiHi"
   ]
  },
  {
   "cell_type": "code",
   "execution_count": 30,
   "id": "470a1db0-73b8-4d63-911c-007774671139",
   "metadata": {},
   "outputs": [
    {
     "name": "stdout",
     "output_type": "stream",
     "text": [
      "--------------------------------------------------------------------------------\n"
     ]
    }
   ],
   "source": [
    "# 033 화면에 '-'를 80개 출력하세요.\n",
    "print('-' * 80)"
   ]
  },
  {
   "cell_type": "code",
   "execution_count": 32,
   "id": "3340584e-e971-4cb4-8713-c5cf0ae2c8ed",
   "metadata": {},
   "outputs": [
    {
     "name": "stdout",
     "output_type": "stream",
     "text": [
      "pythonjavapythonjavapythonjavapythonjava\n"
     ]
    }
   ],
   "source": [
    "# 034\n",
    "t1 = 'python'\n",
    "t2 = 'java'\n",
    "print((t1 + t2) * 4) \n",
    "# 실행 예 python java python java python java python java"
   ]
  },
  {
   "cell_type": "code",
   "execution_count": 34,
   "id": "550eb749-1e6a-4b89-8a81-a9fb1c2addb5",
   "metadata": {},
   "outputs": [
    {
     "name": "stdout",
     "output_type": "stream",
     "text": [
      "python java python java python java python java \n"
     ]
    }
   ],
   "source": [
    "# 034\n",
    "t1 = 'python'\n",
    "t2 = 'java'\n",
    "t3 = t1 + ' ' + t2 + ' '\n",
    "print(t3 * 4)"
   ]
  },
  {
   "cell_type": "code",
   "execution_count": 48,
   "id": "65873190-99ba-475a-b340-4b04427419ca",
   "metadata": {},
   "outputs": [
    {
     "name": "stdout",
     "output_type": "stream",
     "text": [
      "이름: 김민수 나이: 10\n",
      "이름: 이철희 나이: 13\n"
     ]
    }
   ],
   "source": [
    "# 035\n",
    "name1 = \"김민수\" \n",
    "age1 = 10\n",
    "name2 = \"이철희\"\n",
    "age2 = 13\n",
    "n1 = f'이름: {name1} 나이: {age1}'\n",
    "n2 = f'이름: {name2} 나이: {age2}'\n",
    "print(n1 + '\\n' + n2)"
   ]
  },
  {
   "cell_type": "code",
   "execution_count": 49,
   "id": "30085bc5-7c01-4d4b-a81a-1630a542a0bf",
   "metadata": {},
   "outputs": [
    {
     "name": "stdout",
     "output_type": "stream",
     "text": [
      "이름: 김민수 나이: 10\n",
      "이름: 이철희 나이: 13\n"
     ]
    }
   ],
   "source": [
    "# 035 a\n",
    "# 변수에 다음과 같이 문자열과 정수가 바인딩되어 있을 때 % formatting을 사용해서 다음과 같이 출력해보세요.\n",
    "# print 포맷팅에서 `%s`는 문자열 데이터 타입의 값을 `%d`는 정수형 데이터 타입 값의 출력을 의미합니다.\n",
    "\n",
    "name1 = \"김민수\" \n",
    "age1 = 10\n",
    "name2 = \"이철희\"\n",
    "age2 = 13\n",
    "print(\"이름: %s 나이: %d\" % (name1, age1))\n",
    "print(\"이름: %s 나이: %d\" % (name2, age2))"
   ]
  },
  {
   "cell_type": "code",
   "execution_count": 55,
   "id": "56b0cc8e-3271-4442-91e9-1f3451e2f1ba",
   "metadata": {},
   "outputs": [
    {
     "data": {
      "text/plain": [
       "'이름: 김민수 나이: 10 이름: 이철희 나이: 13'"
      ]
     },
     "execution_count": 55,
     "metadata": {},
     "output_type": "execute_result"
    }
   ],
   "source": [
    "# 036 문자열의 format( ) 메서드 사용\n",
    "\"이름: {} 나이: {} 이름: {} 나이: {}\".format('김민수', 10, '이철희', 13)"
   ]
  },
  {
   "cell_type": "code",
   "execution_count": 57,
   "id": "6e614f41-75b8-4700-a3c6-8a322b0bc0df",
   "metadata": {},
   "outputs": [
    {
     "name": "stdout",
     "output_type": "stream",
     "text": [
      "이름 김민수 나이: 10\n",
      "이름 이철희 나이: 13\n"
     ]
    }
   ],
   "source": [
    "# 036 a  문자열의 포맷 메서드는 타입과 상관없이 값이 출력될 위치에 `{ }`를 적어주면 됩니다.\n",
    "print('이름 {} 나이: {}'.format(name1, age1))\n",
    "print('이름 {} 나이: {}'.format(name2, age2))"
   ]
  },
  {
   "cell_type": "code",
   "execution_count": 58,
   "id": "ac749a86-c43a-498f-926a-df6e31a184bb",
   "metadata": {},
   "outputs": [
    {
     "name": "stdout",
     "output_type": "stream",
     "text": [
      "이름: 김민수 나이: 10\n",
      "이름: 이철희 나이: 13\n"
     ]
    }
   ],
   "source": [
    "# 037 f-string을 사용해서 035번 문제를 다시 풀어보세요.\n",
    "print(f'이름: {name1} 나이: {age1}')\n",
    "print(f'이름: {name2} 나이: {age2}')"
   ]
  },
  {
   "cell_type": "code",
   "execution_count": 68,
   "id": "c92b4669-8fd4-4919-847f-d1fd8de945e1",
   "metadata": {},
   "outputs": [
    {
     "name": "stdout",
     "output_type": "stream",
     "text": [
      "5969782550 <class 'int'>\n"
     ]
    }
   ],
   "source": [
    "# 038  노트북파일 5번 1.2.1 참고\n",
    "listedshares = \"5,969,782,550\"\n",
    "e = listedshares.replace(',', '')\n",
    "change = int(e)\n",
    "print(int(change), type(change))"
   ]
  },
  {
   "cell_type": "code",
   "execution_count": 66,
   "id": "d748338b-0111-4595-b6f2-40c238db8848",
   "metadata": {},
   "outputs": [
    {
     "name": "stdout",
     "output_type": "stream",
     "text": [
      "2020/03\n"
     ]
    }
   ],
   "source": [
    "# 039\n",
    "quar = \"2020/03(E) (IFRS연결)\"\n",
    "print(quar[:7])"
   ]
  },
  {
   "cell_type": "code",
   "execution_count": 1,
   "id": "cc235d92-67e0-4517-ab72-4a4b6737a9b7",
   "metadata": {},
   "outputs": [
    {
     "data": {
      "text/plain": [
       "'삼성전자'"
      ]
     },
     "execution_count": 1,
     "metadata": {},
     "output_type": "execute_result"
    }
   ],
   "source": [
    "# 040    노트북파일 5번 1.2.2 참고\n",
    "data = \"   삼성전자    \"\n",
    "data.strip()"
   ]
  },
  {
   "cell_type": "code",
   "execution_count": 2,
   "id": "2ea99408-6703-418d-8fed-f5e15e59b92c",
   "metadata": {},
   "outputs": [
    {
     "data": {
      "text/plain": [
       "'BTC_KRW'"
      ]
     },
     "execution_count": 2,
     "metadata": {},
     "output_type": "execute_result"
    }
   ],
   "source": [
    "# 041\n",
    "ticker = \"btc_krw\"\n",
    "ticker.upper()"
   ]
  },
  {
   "cell_type": "code",
   "execution_count": 5,
   "id": "2e0f35cf-d87d-4a15-9968-d062e2d252b1",
   "metadata": {},
   "outputs": [
    {
     "name": "stdout",
     "output_type": "stream",
     "text": [
      "BTC_KRW\n"
     ]
    }
   ],
   "source": [
    "# 041 a\n",
    "ticker1 = ticker.upper()\n",
    "print(ticker1)\n",
    "# upper 메서드 호출하면 문자열을 대문자로 변경가능. \n",
    "# 이때 원본 문자열은 유지되고, 대문자로 변경된 새로운 문자열 객체가 반화됨."
   ]
  },
  {
   "cell_type": "code",
   "execution_count": 12,
   "id": "feda832d-f17d-4d78-875d-da7857b11888",
   "metadata": {},
   "outputs": [
    {
     "name": "stdout",
     "output_type": "stream",
     "text": [
      "btc_krw <class 'str'> BTC_KRW <class 'str'>\n"
     ]
    }
   ],
   "source": [
    "# 042\n",
    "ticker = \"BTC_KRW\"\n",
    "ticker2 = ticker.lower()\n",
    "print(ticker2, type(ticker2), ticker, type(ticker))"
   ]
  },
  {
   "cell_type": "code",
   "execution_count": 13,
   "id": "f2f38678-9bfb-4805-9d8a-1974972f77a2",
   "metadata": {},
   "outputs": [
    {
     "data": {
      "text/plain": [
       "'Hello'"
      ]
     },
     "execution_count": 13,
     "metadata": {},
     "output_type": "execute_result"
    }
   ],
   "source": [
    "# 043\n",
    "m = 'hello'\n",
    "m.capitalize()"
   ]
  },
  {
   "cell_type": "code",
   "execution_count": 17,
   "id": "9311949f-ffb8-46c1-861b-3c9039ec7cfa",
   "metadata": {},
   "outputs": [
    {
     "name": "stdout",
     "output_type": "stream",
     "text": [
      "True\n"
     ]
    }
   ],
   "source": [
    "# 044\n",
    "file_name = \"보고서.xlsx\"\n",
    "a = file_name.endswith('xlsx')\n",
    "print(a)"
   ]
  },
  {
   "cell_type": "code",
   "execution_count": 19,
   "id": "42fa7c55-e9e0-4ff6-9db2-dde64017e348",
   "metadata": {},
   "outputs": [
    {
     "data": {
      "text/plain": [
       "True"
      ]
     },
     "execution_count": 19,
     "metadata": {},
     "output_type": "execute_result"
    }
   ],
   "source": [
    "# 044 a\n",
    "file_name = \"보고서.xlsx\"\n",
    "file_name.endswith('xlsx')\n",
    "# 메서드는 프린트함수를 스지 않아도 출력이 되는건가보당"
   ]
  },
  {
   "cell_type": "code",
   "execution_count": 20,
   "id": "d85869f4-cc6b-403e-9032-14b7a5a46690",
   "metadata": {},
   "outputs": [
    {
     "data": {
      "text/plain": [
       "True"
      ]
     },
     "execution_count": 20,
     "metadata": {},
     "output_type": "execute_result"
    }
   ],
   "source": [
    "# 045 위랑 똑같은 문제인줄 알았는데 또는!이 있었다. 문제 꼼꼼하게 읽는 습관 들일것.\n",
    "file_name = \"보고서.xlsx\"\n",
    "file_name.endswith('xlsx' or 'xls')"
   ]
  },
  {
   "cell_type": "code",
   "execution_count": 23,
   "id": "905fca4a-81a6-4257-8cb5-004776fc0995",
   "metadata": {},
   "outputs": [
    {
     "data": {
      "text/plain": [
       "True"
      ]
     },
     "execution_count": 23,
     "metadata": {},
     "output_type": "execute_result"
    }
   ],
   "source": [
    "# 045 a => 2개 이상은 튜플로 넣어주는것이군\n",
    "file_name = \"보고서.xlsx\"\n",
    "file_name.endswith(('xlsx', 'xls'))"
   ]
  },
  {
   "cell_type": "code",
   "execution_count": 1,
   "id": "3b05dd95-b417-41b6-865d-b1c822563db4",
   "metadata": {},
   "outputs": [
    {
     "data": {
      "text/plain": [
       "True"
      ]
     },
     "execution_count": 1,
     "metadata": {},
     "output_type": "execute_result"
    }
   ],
   "source": [
    "# 046 앗 왜 저장이 안돼있노\n",
    "file_name = \"2020_보고서.xlsx\"\n",
    "file_name.startswith('2020')"
   ]
  },
  {
   "cell_type": "code",
   "execution_count": 2,
   "id": "d7e28901-8249-48ff-a30d-ee5b3fd5ac10",
   "metadata": {},
   "outputs": [
    {
     "data": {
      "text/plain": [
       "['hello', 'world']"
      ]
     },
     "execution_count": 2,
     "metadata": {},
     "output_type": "execute_result"
    }
   ],
   "source": [
    "# 047\n",
    "a = \"hello world\"\n",
    "a.split()"
   ]
  },
  {
   "cell_type": "code",
   "execution_count": 3,
   "id": "8e625248-b85b-49fe-a166-2fbce592188d",
   "metadata": {},
   "outputs": [
    {
     "data": {
      "text/plain": [
       "['btc', 'krw']"
      ]
     },
     "execution_count": 3,
     "metadata": {},
     "output_type": "execute_result"
    }
   ],
   "source": [
    "# 048 \n",
    "ticker = \"btc_krw\"\n",
    "ticker.split('_')"
   ]
  },
  {
   "cell_type": "code",
   "execution_count": 4,
   "id": "edebc392-d5db-4001-b4cf-66cdcf67f99a",
   "metadata": {},
   "outputs": [
    {
     "data": {
      "text/plain": [
       "['2020', '05', '01']"
      ]
     },
     "execution_count": 4,
     "metadata": {},
     "output_type": "execute_result"
    }
   ],
   "source": [
    "# 049 \n",
    "date = \"2020-05-01\"\n",
    "date.split('-')"
   ]
  },
  {
   "cell_type": "code",
   "execution_count": 7,
   "id": "ae4be50f-6e1f-4088-8ebe-795bacaddb5a",
   "metadata": {},
   "outputs": [
    {
     "data": {
      "text/plain": [
       "'039490'"
      ]
     },
     "execution_count": 7,
     "metadata": {},
     "output_type": "execute_result"
    }
   ],
   "source": [
    "# 050\n",
    "data = \"039490     \"\n",
    "data.rstrip()"
   ]
  },
  {
   "cell_type": "code",
   "execution_count": 11,
   "id": "cf075dc9-f382-471f-9516-43f3ebd60256",
   "metadata": {},
   "outputs": [
    {
     "data": {
      "text/plain": [
       "['닥터 스트레인지', '스플릿', '럭키']"
      ]
     },
     "execution_count": 11,
     "metadata": {},
     "output_type": "execute_result"
    }
   ],
   "source": [
    "# 051\n",
    "movie_rank = ['닥터 스트레인지', '스플릿', '럭키']\n",
    "list(movie_rank)"
   ]
  },
  {
   "cell_type": "code",
   "execution_count": 18,
   "id": "168c4665-0e5f-4577-8e49-2497c6ebb300",
   "metadata": {},
   "outputs": [
    {
     "name": "stdout",
     "output_type": "stream",
     "text": [
      "['닥터 스트레인지', '슈퍼맨', '스플릿', '럭키', '배트맨', '배트맨']\n"
     ]
    }
   ],
   "source": [
    "# 052 append는 원본리스트가 파괴되므로 사용할때 주의할 것.\n",
    "movie_rank.append('배트맨')\n",
    "print(movie_rank)"
   ]
  },
  {
   "cell_type": "code",
   "execution_count": 4,
   "id": "720a3dc2-4022-4e4a-92c1-4fdb7c3f3fca",
   "metadata": {},
   "outputs": [
    {
     "name": "stdout",
     "output_type": "stream",
     "text": [
      "['닥터 스트레인지', '슈퍼맨', '스플릿', '럭키', '배트맨']\n"
     ]
    }
   ],
   "source": [
    "# 053  리스트의 `insert(인덱스, 원소)` 메서드를 사용하면 특정 위치에 값을 끼어넣기 가능\n",
    "movie_rank = ['닥터 스트레인지', '스플릿', '럭키', '배트맨']\n",
    "movie_rank.insert(1, '슈퍼맨')\n",
    "print(movie_rank)"
   ]
  },
  {
   "cell_type": "code",
   "execution_count": 5,
   "id": "ab29fb4f-4ee6-402b-8200-3bd66a95b4da",
   "metadata": {},
   "outputs": [
    {
     "name": "stdout",
     "output_type": "stream",
     "text": [
      "['닥터 스트레인지', '슈퍼맨', '스플릿', '배트맨']\n"
     ]
    }
   ],
   "source": [
    "# 054\n",
    "movie_rank.remove('럭키')\n",
    "print(movie_rank)"
   ]
  },
  {
   "cell_type": "code",
   "execution_count": null,
   "id": "cc16a9db-7060-4c0f-b0c7-db179bf9567f",
   "metadata": {},
   "outputs": [],
   "source": [
    "# 055\n",
    "movie_rank.pop(2, 3)\n",
    "print(movie_rank)"
   ]
  },
  {
   "cell_type": "code",
   "execution_count": 7,
   "id": "f9e255e7-974b-4c25-81ba-6047a0dcb516",
   "metadata": {},
   "outputs": [
    {
     "name": "stdout",
     "output_type": "stream",
     "text": [
      "['닥터 스트레인지', '슈퍼맨', '스플릿', '배트맨']\n",
      "['닥터 스트레인지', '슈퍼맨']\n"
     ]
    }
   ],
   "source": [
    "# 055 a\n",
    "# del 을 이용하여 리스트에서 원소를 삭제할 수 있음. 남은 값들은 새로 인덱싱 됨.\n",
    "print(movie_rank)\n",
    "del movie_rank[2]\n",
    "del movie_rank[2]\n",
    "print(movie_rank)"
   ]
  },
  {
   "cell_type": "code",
   "execution_count": 10,
   "id": "727ca4e4-0184-40a3-bc04-d9d367505053",
   "metadata": {},
   "outputs": [
    {
     "name": "stdout",
     "output_type": "stream",
     "text": [
      "['C', 'C++', 'JAVA', 'Python', 'Go', 'C#']\n"
     ]
    }
   ],
   "source": [
    "# 056\n",
    "lang1 = [\"C\", \"C++\", \"JAVA\"]\n",
    "lang2 = [\"Python\", \"Go\", \"C#\"]\n",
    "# print(lang1 + lang2)\n",
    "# 프린트함수에 연산 넣지말고 다른 변수를 만들어서 그 값을 프린트하네\n",
    "langs = lang1 + lang2\n",
    "print(langs)"
   ]
  },
  {
   "cell_type": "code",
   "execution_count": 15,
   "id": "71aab3d5-5706-480b-8627-2e59c844bdb4",
   "metadata": {},
   "outputs": [
    {
     "name": "stdout",
     "output_type": "stream",
     "text": [
      "max: 7\n",
      "min: 1\n"
     ]
    }
   ],
   "source": [
    "# 057\n",
    "nums = [1, 2, 3, 4, 5, 6, 7]\n",
    "# min(nums), max(nums)\n",
    "print('max:', max(nums))\n",
    "print('min:', min(nums))"
   ]
  },
  {
   "cell_type": "code",
   "execution_count": 18,
   "id": "83bea32e-4aec-4686-879c-ea1d22296b65",
   "metadata": {},
   "outputs": [
    {
     "name": "stdout",
     "output_type": "stream",
     "text": [
      "15\n"
     ]
    }
   ],
   "source": [
    "# 058\n",
    "nums = [1, 2, 3, 4, 5]\n",
    "# sum(nums)\n",
    "print(sum(nums))"
   ]
  },
  {
   "cell_type": "code",
   "execution_count": 19,
   "id": "0ddbb7f7-3579-4031-b4cd-945fca48b664",
   "metadata": {},
   "outputs": [
    {
     "name": "stdout",
     "output_type": "stream",
     "text": [
      "12\n"
     ]
    }
   ],
   "source": [
    "# 059\n",
    "cook = [\"피자\", \"김밥\", \"만두\", \"양념치킨\", \"족발\", \"피자\", \"김치만두\", \"쫄면\", \"소시지\", \"라면\", \"팥빙수\", \"김치전\"]\n",
    "print(len(cook))"
   ]
  },
  {
   "cell_type": "code",
   "execution_count": 20,
   "id": "12e6bf45-016a-45c5-85fa-008bbe550059",
   "metadata": {},
   "outputs": [
    {
     "name": "stdout",
     "output_type": "stream",
     "text": [
      "3.0\n"
     ]
    }
   ],
   "source": [
    "# 060\n",
    "nums = [1, 2, 3, 4, 5]\n",
    "a = sum(nums) / len(nums)\n",
    "print(a)"
   ]
  },
  {
   "cell_type": "code",
   "execution_count": 2,
   "id": "b55be01b-a8e2-4df3-bd44-f64b37e74e33",
   "metadata": {},
   "outputs": [
    {
     "ename": "AttributeError",
     "evalue": "'list' object has no attribute 'slicing'",
     "output_type": "error",
     "traceback": [
      "\u001b[1;31m---------------------------------------------------------------------------\u001b[0m",
      "\u001b[1;31mAttributeError\u001b[0m                            Traceback (most recent call last)",
      "Cell \u001b[1;32mIn[2], line 3\u001b[0m\n\u001b[0;32m      1\u001b[0m \u001b[38;5;66;03m# 061\u001b[39;00m\n\u001b[0;32m      2\u001b[0m price \u001b[38;5;241m=\u001b[39m [\u001b[38;5;124m'\u001b[39m\u001b[38;5;124m20180728\u001b[39m\u001b[38;5;124m'\u001b[39m, \u001b[38;5;241m100\u001b[39m, \u001b[38;5;241m130\u001b[39m, \u001b[38;5;241m140\u001b[39m, \u001b[38;5;241m150\u001b[39m, \u001b[38;5;241m160\u001b[39m, \u001b[38;5;241m170\u001b[39m]\n\u001b[1;32m----> 3\u001b[0m \u001b[43mprice\u001b[49m\u001b[38;5;241;43m.\u001b[39;49m\u001b[43mslicing\u001b[49m[\u001b[38;5;241m1\u001b[39m:]\n",
      "\u001b[1;31mAttributeError\u001b[0m: 'list' object has no attribute 'slicing'"
     ]
    }
   ],
   "source": [
    "# 061\n",
    "price = ['20180728', 100, 130, 140, 150, 160, 170]\n",
    "price.slicing[1:]"
   ]
  },
  {
   "cell_type": "code",
   "execution_count": 4,
   "id": "79d30030-b12e-44cb-8e32-54bc9b712f6a",
   "metadata": {},
   "outputs": [
    {
     "name": "stdout",
     "output_type": "stream",
     "text": [
      "[100, 130, 140, 150, 160, 170]\n"
     ]
    }
   ],
   "source": [
    "# 061 a\n",
    "print(price[1:])"
   ]
  },
  {
   "cell_type": "code",
   "execution_count": 5,
   "id": "39b81b31-4a07-48a6-9c8b-17a18cd802a9",
   "metadata": {},
   "outputs": [
    {
     "data": {
      "text/plain": [
       "[1, 3, 5, 7, 9]"
      ]
     },
     "execution_count": 5,
     "metadata": {},
     "output_type": "execute_result"
    }
   ],
   "source": [
    "# 062\n",
    "nums = [1, 2, 3, 4, 5, 6, 7, 8, 9, 10]\n",
    "nums[::2]"
   ]
  },
  {
   "cell_type": "code",
   "execution_count": 7,
   "id": "f631296f-d68f-4606-b625-c031bce4c381",
   "metadata": {},
   "outputs": [
    {
     "data": {
      "text/plain": [
       "[2, 4, 6, 8, 10]"
      ]
     },
     "execution_count": 7,
     "metadata": {},
     "output_type": "execute_result"
    }
   ],
   "source": [
    "# 063\n",
    "nums = [1, 2, 3, 4, 5, 6, 7, 8, 9, 10]\n",
    "nums[1::2]"
   ]
  },
  {
   "cell_type": "code",
   "execution_count": 8,
   "id": "6a41fbf2-e1f4-4a0e-8875-c0dae171481b",
   "metadata": {},
   "outputs": [
    {
     "data": {
      "text/plain": [
       "[5, 4, 3, 2, 1]"
      ]
     },
     "execution_count": 8,
     "metadata": {},
     "output_type": "execute_result"
    }
   ],
   "source": [
    "# 064\n",
    "nums = [1, 2, 3, 4, 5]\n",
    "nums[::-1]"
   ]
  },
  {
   "cell_type": "code",
   "execution_count": 11,
   "id": "a8f0871f-5c3e-4f17-8ee6-ec3a62c65af5",
   "metadata": {},
   "outputs": [
    {
     "name": "stdout",
     "output_type": "stream",
     "text": [
      "['삼성전자', 'Naver']\n"
     ]
    }
   ],
   "source": [
    "# 065\n",
    "interest = ['삼성전자', 'LG전자', 'Naver']\n",
    "interest.remove('LG전자')\n",
    "print(interest)"
   ]
  },
  {
   "cell_type": "code",
   "execution_count": 14,
   "id": "38db1ae9-3987-4e18-8ba7-807b7c7ab69a",
   "metadata": {},
   "outputs": [
    {
     "name": "stdout",
     "output_type": "stream",
     "text": [
      "삼성전자 Naver\n"
     ]
    },
    {
     "data": {
      "text/plain": [
       "str"
      ]
     },
     "execution_count": 14,
     "metadata": {},
     "output_type": "execute_result"
    }
   ],
   "source": [
    "# 065 a\n",
    "interest = ['삼성전자', 'LG전자', 'Naver']\n",
    "print(interest[0], interest[2])\n",
    "type(interest[0])"
   ]
  },
  {
   "cell_type": "code",
   "execution_count": 19,
   "id": "8393a588-5fd5-4c9e-be89-27ca5dd5f76c",
   "metadata": {},
   "outputs": [
    {
     "name": "stdout",
     "output_type": "stream",
     "text": [
      "삼성전자 LG전자 Naver SK하이닉스 미래에셋대우\n"
     ]
    }
   ],
   "source": [
    "# 066\n",
    "interest = ['삼성전자', 'LG전자', 'Naver', 'SK하이닉스', '미래에셋대우']\n",
    "\n",
    "a = ' '.join(interest)\n",
    "print(a)"
   ]
  },
  {
   "cell_type": "code",
   "execution_count": 20,
   "id": "02d49100-4d39-4330-adbf-afa567de4413",
   "metadata": {},
   "outputs": [
    {
     "name": "stdout",
     "output_type": "stream",
     "text": [
      "삼성전자/LG전자/Naver/SK하이닉스/미래에셋대우\n"
     ]
    }
   ],
   "source": [
    "# 067\n",
    "interest = ['삼성전자', 'LG전자', 'Naver', 'SK하이닉스', '미래에셋대우']\n",
    "a = '/'.join(interest)\n",
    "print(a)"
   ]
  },
  {
   "cell_type": "code",
   "execution_count": 21,
   "id": "299fcab3-8ce8-47a8-a0db-a55ac1ccbc28",
   "metadata": {},
   "outputs": [
    {
     "name": "stdout",
     "output_type": "stream",
     "text": [
      "삼성전자\n",
      "LG전자\n",
      "Naver\n",
      "SK하이닉스\n",
      "미래에셋대우\n"
     ]
    }
   ],
   "source": [
    "# 068\n",
    "interest = ['삼성전자', 'LG전자', 'Naver', 'SK하이닉스', '미래에셋대우']\n",
    "a = '\\n'.join(interest)\n",
    "print(a)"
   ]
  },
  {
   "cell_type": "code",
   "execution_count": 24,
   "id": "0d010d75-122f-4673-a72f-0b4fdc7634c1",
   "metadata": {},
   "outputs": [
    {
     "name": "stdout",
     "output_type": "stream",
     "text": [
      "['삼성전자', 'LG전자', 'Naver']\n"
     ]
    }
   ],
   "source": [
    "# 069\n",
    "string = \"삼성전자/LG전자/Naver\"\n",
    "interest = string.split('/')\n",
    "print(interest)"
   ]
  },
  {
   "cell_type": "code",
   "execution_count": 26,
   "id": "1f911479-38ad-493a-925a-856e283fc774",
   "metadata": {},
   "outputs": [
    {
     "name": "stdout",
     "output_type": "stream",
     "text": [
      "[1, 2, 3, 4, 5, 9, 10]\n"
     ]
    }
   ],
   "source": [
    "# 070\n",
    "data = [2, 4, 3, 1, 5, 10, 9]\n",
    "data.sort()\n",
    "print(data)"
   ]
  },
  {
   "cell_type": "code",
   "execution_count": 28,
   "id": "be9904a9-1692-4d97-9780-2d4337be3a96",
   "metadata": {},
   "outputs": [
    {
     "name": "stdout",
     "output_type": "stream",
     "text": [
      "[1, 2, 3, 4, 5, 9, 10]\n"
     ]
    }
   ],
   "source": [
    "# 070 a 원본데이터 변경을 원하지 않을 경우\n",
    "data = [2, 4, 3, 1, 5, 10, 9]\n",
    "data2 = sorted(data)\n",
    "print(data2)\n"
   ]
  },
  {
   "cell_type": "code",
   "execution_count": 29,
   "id": "799baed2-1848-4170-9713-9281c37a3f32",
   "metadata": {},
   "outputs": [
    {
     "ename": "SyntaxError",
     "evalue": "invalid syntax (2613796267.py, line 2)",
     "output_type": "error",
     "traceback": [
      "\u001b[1;36m  Cell \u001b[1;32mIn[29], line 2\u001b[1;36m\u001b[0m\n\u001b[1;33m    my_variable('':'')\u001b[0m\n\u001b[1;37m                  ^\u001b[0m\n\u001b[1;31mSyntaxError\u001b[0m\u001b[1;31m:\u001b[0m invalid syntax\n"
     ]
    }
   ],
   "source": [
    "# 071\n",
    "my_variable('':'')"
   ]
  },
  {
   "cell_type": "code",
   "execution_count": 32,
   "id": "6b8945a8-b4ef-4c78-aaca-bac1c5154a1d",
   "metadata": {},
   "outputs": [
    {
     "name": "stdout",
     "output_type": "stream",
     "text": [
      "<class 'tuple'>\n"
     ]
    }
   ],
   "source": [
    "# 071 a\n",
    "my_variable = ()\n",
    "print(type(my_variable))"
   ]
  },
  {
   "cell_type": "code",
   "execution_count": 34,
   "id": "20744a86-f4c9-4e06-a1da-87cfc474c4a6",
   "metadata": {},
   "outputs": [
    {
     "name": "stdout",
     "output_type": "stream",
     "text": [
      "('닥터스트레인지', '스플릿', '럭키') <class 'tuple'>\n"
     ]
    }
   ],
   "source": [
    "# 072\n",
    "movie_rank = ('닥터스트레인지', '스플릿', '럭키')\n",
    "print(movie_rank, type(movie_rank))"
   ]
  },
  {
   "cell_type": "code",
   "execution_count": 39,
   "id": "facb89df-bb0b-4fb0-91a6-0371d3bcc64f",
   "metadata": {},
   "outputs": [
    {
     "name": "stdout",
     "output_type": "stream",
     "text": [
      "(1,) <class 'tuple'>\n",
      "(1, 2) <class 'tuple'>\n"
     ]
    }
   ],
   "source": [
    "# 073\n",
    "# 내답 a = (1) int임. 튜플은 괄호와 하나의 데이터를 저장할 경우 컴마를 입력해야 함.\n",
    "a = (1, )\n",
    "print(a, type(a))\n",
    "b = (1, 2)\n",
    "print(b, type(b))"
   ]
  },
  {
   "cell_type": "code",
   "execution_count": 42,
   "id": "aaa3ec2e-5bf1-4138-b41d-6ef759e20490",
   "metadata": {},
   "outputs": [
    {
     "ename": "SyntaxError",
     "evalue": "invalid syntax. Perhaps you forgot a comma? (307048659.py, line 4)",
     "output_type": "error",
     "traceback": [
      "\u001b[1;36m  Cell \u001b[1;32mIn[42], line 4\u001b[1;36m\u001b[0m\n\u001b[1;33m    Traceback (most recent call last):\u001b[0m\n\u001b[1;37m               ^\u001b[0m\n\u001b[1;31mSyntaxError\u001b[0m\u001b[1;31m:\u001b[0m invalid syntax. Perhaps you forgot a comma?\n"
     ]
    }
   ],
   "source": [
    "# 074 오류 원인 설명하기\n",
    "t = (1, 2, 3)\n",
    "t[0] = 'a'\n",
    "Traceback (most recent call last):\n",
    "  File \"<pyshell#46>\", line 1, in <module>\n",
    "    t[0] = 'a'\n",
    "TypeError: 'tuple' object does not support item assignment\n",
    "## 튜플은 요소(원소)-element 변경 불가!"
   ]
  },
  {
   "cell_type": "code",
   "execution_count": 43,
   "id": "84b565f2-5fe9-4d40-925c-ac987c7e4ac9",
   "metadata": {},
   "outputs": [
    {
     "data": {
      "text/plain": [
       "tuple"
      ]
     },
     "execution_count": 43,
     "metadata": {},
     "output_type": "execute_result"
    }
   ],
   "source": [
    "# 075\n",
    "t = 1, 2, 3, 4\n",
    "# t가 바인딩하는 데이터타입은 int?\n",
    "type(t)"
   ]
  },
  {
   "cell_type": "code",
   "execution_count": 46,
   "id": "6a461720-28d3-4b73-ac83-1c25a4f0506c",
   "metadata": {},
   "outputs": [
    {
     "data": {
      "text/plain": [
       "('A', 'b', 'c')"
      ]
     },
     "execution_count": 46,
     "metadata": {},
     "output_type": "execute_result"
    }
   ],
   "source": [
    "# 076\n",
    "t = ('a', 'b', 'c')\n",
    "t1= list(t)\n",
    "t1[0] = 'A'\n",
    "tuple(t1)"
   ]
  },
  {
   "cell_type": "code",
   "execution_count": 47,
   "id": "99020919-bc7d-462a-a8a6-cbb2282015b4",
   "metadata": {},
   "outputs": [],
   "source": [
    "# 076 a\n",
    "# 좀,,희안하내,, 튜플 값 변경불가 = 리스트와 다름. 새로운 튜플을 만들고 \n",
    "# t 라는 변수를 업데이트. 기존의 튜플은 자동삭제\n",
    "t = ('A', 'b', 'c')"
   ]
  },
  {
   "cell_type": "code",
   "execution_count": 51,
   "id": "e19ccc34-5953-400e-a827-b2da401113f7",
   "metadata": {},
   "outputs": [
    {
     "name": "stdout",
     "output_type": "stream",
     "text": [
      "['삼성전자', 'LG전자', 'SK Hynix'] <class 'list'>\n"
     ]
    }
   ],
   "source": [
    "# 077 \n",
    "interest = ('삼성전자', 'LG전자', 'SK Hynix')\n",
    "list(interest)\n",
    "\n",
    "# a \n",
    "data = list(interest)\n",
    "print(data, type(data))"
   ]
  },
  {
   "cell_type": "code",
   "execution_count": 53,
   "id": "85d4d94f-d60a-4cce-b2e8-bfe9de056e8f",
   "metadata": {},
   "outputs": [
    {
     "name": "stdout",
     "output_type": "stream",
     "text": [
      "('삼성전자', 'LG전자', 'SK Hynix') <class 'tuple'>\n"
     ]
    }
   ],
   "source": [
    "# 078\n",
    "interest = ['삼성전자', 'LG전자', 'SK Hynix']\n",
    "joosik = tuple(interest)\n",
    "print(joosik, type(joosik))"
   ]
  },
  {
   "cell_type": "code",
   "execution_count": 64,
   "id": "47aa8e4d-e362-48a8-b334-19674b026db0",
   "metadata": {},
   "outputs": [
    {
     "name": "stdout",
     "output_type": "stream",
     "text": [
      "apple banana cake\n"
     ]
    }
   ],
   "source": [
    "# 079 실행결과 예측\n",
    "temp = ('apple', 'banana', 'cake')\n",
    "a, b, c = temp\n",
    "print(a, b, c)\n",
    "# 'apple', 'banana', 'cake'\n",
    "# 튜플 언패킹.각각 단어가 바인딩됨. \n",
    "# 원래는 아래와 같은데 코딩이 짧아지고 가독성이 좋아짐.\n",
    "# a = temp[0]\n",
    "# b = temp[1]\n",
    "# c = temp[2]"
   ]
  },
  {
   "cell_type": "code",
   "execution_count": 62,
   "id": "aea24228-9d92-435a-abc7-8f1cc79cfcef",
   "metadata": {},
   "outputs": [
    {
     "ename": "SyntaxError",
     "evalue": "invalid syntax (2997270717.py, line 3)",
     "output_type": "error",
     "traceback": [
      "\u001b[1;36m  Cell \u001b[1;32mIn[62], line 3\u001b[1;36m\u001b[0m\n\u001b[1;33m    number = tuple(([:100:2]))\u001b[0m\n\u001b[1;37m                     ^\u001b[0m\n\u001b[1;31mSyntaxError\u001b[0m\u001b[1;31m:\u001b[0m invalid syntax\n"
     ]
    }
   ],
   "source": [
    "# 080\n",
    "#(2, 4, 6, 8 ... 98)\n",
    "number = tuple(([:100:2]))\n",
    "print(number)"
   ]
  },
  {
   "cell_type": "code",
   "execution_count": 67,
   "id": "aa11bbba-1cf7-4393-83aa-28f5a3aa265a",
   "metadata": {},
   "outputs": [
    {
     "name": "stdout",
     "output_type": "stream",
     "text": [
      "(2, 4, 6, 8, 10, 12, 14, 16, 18, 20, 22, 24, 26, 28, 30, 32, 34, 36, 38, 40, 42, 44, 46, 48, 50, 52, 54, 56, 58, 60, 62, 64, 66, 68, 70, 72, 74, 76, 78, 80, 82, 84, 86, 88, 90, 92, 94, 96, 98)\n",
      "(2, 4, 6, 8, 10, 12, 14, 16, 18, 20, 22, 24, 26, 28, 30, 32, 34, 36, 38, 40, 42, 44, 46, 48, 50, 52, 54, 56, 58, 60, 62, 64, 66, 68, 70, 72, 74, 76, 78, 80, 82, 84, 86, 88, 90, 92, 94, 96, 98)\n"
     ]
    }
   ],
   "source": [
    "# 080 a\n",
    "data = tuple(range(2, 100, 2))\n",
    "print(data)\n",
    "\n",
    "a = range(2, 99, 2)\n",
    "print(tuple(a))"
   ]
  },
  {
   "cell_type": "code",
   "execution_count": null,
   "id": "31bdd17a-d6ea-41ef-8de1-67edd6ba8330",
   "metadata": {},
   "outputs": [],
   "source": []
  },
  {
   "cell_type": "code",
   "execution_count": null,
   "id": "28826a97-c10b-4961-a832-ea20ab9716b9",
   "metadata": {},
   "outputs": [],
   "source": []
  },
  {
   "cell_type": "code",
   "execution_count": null,
   "id": "640ccd71-9079-4e41-829a-5cfb7f8954f4",
   "metadata": {},
   "outputs": [],
   "source": []
  },
  {
   "cell_type": "code",
   "execution_count": null,
   "id": "bfe8bf93-3766-454e-8b2e-dd0d6ffb55a3",
   "metadata": {},
   "outputs": [],
   "source": []
  }
 ],
 "metadata": {
  "kernelspec": {
   "display_name": "Python 3 (ipykernel)",
   "language": "python",
   "name": "python3"
  },
  "language_info": {
   "codemirror_mode": {
    "name": "ipython",
    "version": 3
   },
   "file_extension": ".py",
   "mimetype": "text/x-python",
   "name": "python",
   "nbconvert_exporter": "python",
   "pygments_lexer": "ipython3",
   "version": "3.11.6"
  }
 },
 "nbformat": 4,
 "nbformat_minor": 5
}
